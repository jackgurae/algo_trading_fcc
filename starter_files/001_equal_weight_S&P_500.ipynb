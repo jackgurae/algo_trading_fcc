{
  "nbformat": 4,
  "nbformat_minor": 0,
  "metadata": {
    "kernelspec": {
      "display_name": "Python 3",
      "language": "python",
      "name": "python3"
    },
    "language_info": {
      "codemirror_mode": {
        "name": "ipython",
        "version": 3
      },
      "file_extension": ".py",
      "mimetype": "text/x-python",
      "name": "python",
      "nbconvert_exporter": "python",
      "pygments_lexer": "ipython3",
      "version": "3.8.2"
    },
    "colab": {
      "name": "001_equal_weight_S&P_500.ipynb",
      "provenance": []
    }
  },
  "cells": [
    {
      "cell_type": "markdown",
      "metadata": {
        "id": "-8_lKY8dGx1P"
      },
      "source": [
        "# Equal-Weight S&P 500 Index Fund\n",
        "\n",
        "## Introduction & Library Imports\n",
        "\n",
        "The S&P 500 is the world's most popular stock market index. The largest fund that is benchmarked to this index is the SPDR® S&P 500® ETF Trust. It has more than US$250 billion of assets under management.\n",
        "\n",
        "The goal of this section of the course is to create a Python script that will accept the value of your portfolio and tell you how many shares of each S&P 500 constituent you should purchase to get an equal-weight version of the index fund.\n",
        "\n",
        "## Library Imports\n",
        "\n",
        "The first thing we need to do is import the open-source software libraries that we'll be using in this tutorial."
      ]
    },
    {
      "cell_type": "code",
      "metadata": {
        "id": "Jhg4ZLjmGx1U"
      },
      "source": [
        "import numpy as np\n",
        "import pandas as pd\n",
        "import requests  #http request, execute API\n",
        "# import xlsxwriter\n",
        "from google.colab import drive\n",
        "import math"
      ],
      "execution_count": 2,
      "outputs": []
    },
    {
      "cell_type": "markdown",
      "metadata": {
        "id": "MjAmHi8oGx1U"
      },
      "source": [
        "## Importing Our List of Stocks\n",
        "\n",
        "The next thing we need to do is import the constituents of the S&P 500.\n",
        "\n",
        "These constituents change over time, so in an ideal world you would connect directly to the index provider (Standard & Poor's) and pull their real-time constituents on a regular basis.\n",
        "\n",
        "Paying for access to the index provider's API is outside of the scope of this course. \n",
        "\n",
        "There's a static version of the S&P 500 constituents available here. [Click this link to download them now](https://drive.google.com/file/d/1ZJSpbY69DVckVZlO9cC6KkgfSufybcHN/view?usp=sharing). Move this file into the `starter-files` folder so it can be accessed by other files in that directory.\n",
        "\n",
        "Now it's time to import these stocks to our Jupyter Notebook file."
      ]
    },
    {
      "cell_type": "code",
      "metadata": {
        "id": "Bl_PF7_7PTBS",
        "colab": {
          "base_uri": "https://localhost:8080/"
        },
        "outputId": "946feef1-9200-4ce3-9a6c-c070a951312c"
      },
      "source": [
        "from google.colab import drive\n",
        "drive.mount('/content/drive')"
      ],
      "execution_count": 4,
      "outputs": [
        {
          "output_type": "stream",
          "text": [
            "Mounted at /content/drive\n"
          ],
          "name": "stdout"
        }
      ]
    },
    {
      "cell_type": "code",
      "metadata": {
        "id": "35J8X0ODGx1W"
      },
      "source": [
        "url ='https://github.com/jackgurae/algo_trading_fcc/blob/515b8bd68bbd4ecef55fa1984954c013af68be15/sp_500_stocks.csv'\n",
        "url = '/content/drive/MyDrive/Cloud/algo_trading/sp_500_stocks.csv'\n",
        "stocks = pd.read_csv(url, sep=',', delimiter=None)"
      ],
      "execution_count": 29,
      "outputs": []
    },
    {
      "cell_type": "markdown",
      "metadata": {
        "id": "YOl8m1xnGx1W"
      },
      "source": [
        "## Acquiring an API Token\n",
        "\n",
        "Now it's time to import our IEX Cloud API token. This is the data provider that we will be using throughout this course.\n",
        "\n",
        "API tokens (and other sensitive information) should be stored in a `secrets.py` file that doesn't get pushed to your local Git repository. We'll be using a sandbox API token in this course, which means that the data we'll use is randomly-generated and (more importantly) has no cost associated with it.\n",
        "\n",
        "[Click here](http://nickmccullum.com/algorithmic-trading-python/secrets.py) to download your `secrets.py` file. Move the file into the same directory as this Jupyter Notebook before proceeding."
      ]
    },
    {
      "cell_type": "code",
      "metadata": {
        "id": "PTL_RTF3Gx1W"
      },
      "source": [
        "# from secrets import IEX_CLOUD_API_TOKEN"
      ],
      "execution_count": 7,
      "outputs": []
    },
    {
      "cell_type": "markdown",
      "metadata": {
        "id": "a3P7WpN0Gx1X"
      },
      "source": [
        "## Making Our First API Call\n",
        "\n",
        "Now it's time to structure our API calls to IEX cloud. \n",
        "\n",
        "We need the following information from the API:\n",
        "\n",
        "* Market capitalization for each stock\n",
        "* Price of each stock\n",
        "\n"
      ]
    },
    {
      "cell_type": "code",
      "metadata": {
        "id": "VF2-Dbg6Gx1X",
        "colab": {
          "base_uri": "https://localhost:8080/"
        },
        "outputId": "c271db0c-2367-49bb-d52c-d9ed9a1d0ce9"
      },
      "source": [
        "api = 'Tpk_059b97af715d417d9f49f50b51b1c448'\n",
        "symbol = 'AAPL'\n",
        "api_url = f'https://sandbox.iexapis.com/stable/stock/{symbol}/quote/?token={api}'\n",
        "data = requests.get(api_url).json()\n",
        "# print(data.status_code)\n",
        "print(data)"
      ],
      "execution_count": 16,
      "outputs": [
        {
          "output_type": "stream",
          "text": [
            "{'symbol': 'AAPL', 'companyName': 'Apple Inc', 'primaryExchange': 'G TLA/K)NNOA(GEETSQLELARMS C BDSA', 'calculationPrice': 'close', 'open': 127.12, 'openTime': 1657752029904, 'openSource': 'lcifafoi', 'close': 125.16, 'closeTime': 1679765355360, 'closeSource': 'fafocili', 'high': 128.23, 'highTime': 1641567242890, 'highSource': 'reaiyeecpd euidmt l1n 5', 'low': 125.16, 'lowTime': 1674644591601, 'lowSource': 'eapeey 5clt niurdmied1 ', 'latestPrice': 127.03, 'latestSource': 'Close', 'latestTime': 'May 28, 2021', 'latestUpdate': 1683877308622, 'latestVolume': 71713954, 'iexRealtimePrice': 129.38, 'iexRealtimeSize': 2702, 'iexLastUpdated': 1671421599884, 'delayedPrice': 124.93, 'delayedPriceTime': 1672621685267, 'oddLotDelayedPrice': 130.65, 'oddLotDelayedPriceTime': 1642116306478, 'extendedPrice': 125.89, 'extendedChange': 0.01, 'extendedChangePercent': 8e-05, 'extendedPriceTime': 1678997773199, 'previousClose': 130.05, 'previousVolume': 98616718, 'change': -0.68, 'changePercent': -0.00548, 'volume': 73116524, 'iexMarketPercent': 0.0175357214250202, 'iexVolume': 1231303, 'avgTotalVolume': 91110555, 'iexBidPrice': 0, 'iexBidSize': 0, 'iexAskPrice': 0, 'iexAskSize': 0, 'iexOpen': 126.48, 'iexOpenTime': 1688131782001, 'iexClose': 130.23, 'iexCloseTime': 1663707465868, 'marketCap': 2170032023292, 'peRatio': 29.28, 'week52High': 149.37, 'week52Low': 82.48, 'ytdChange': -0.05967652069410997, 'lastTradeTime': 1640658553335, 'isUSMarketOpen': False}\n"
          ],
          "name": "stdout"
        }
      ]
    },
    {
      "cell_type": "markdown",
      "metadata": {
        "id": "qglJsYieGx1X"
      },
      "source": [
        "## Parsing Our API Call\n",
        "\n",
        "The API call that we executed in the last code block contains all of the information required to build our equal-weight S&P 500 strategy. \n",
        "\n",
        "With that said, the data isn't in a proper format yet. We need to parse it first."
      ]
    },
    {
      "cell_type": "code",
      "metadata": {
        "id": "bs5YdA8oGx1Y",
        "colab": {
          "base_uri": "https://localhost:8080/"
        },
        "outputId": "ebafd39b-1a67-423c-ca3f-0bae764e51cf"
      },
      "source": [
        "price = data['close']\n",
        "market_cap = data['marketCap']\n",
        "print(price)\n",
        "print(market_cap)"
      ],
      "execution_count": 20,
      "outputs": [
        {
          "output_type": "stream",
          "text": [
            "125.16\n",
            "2170032023292\n"
          ],
          "name": "stdout"
        }
      ]
    },
    {
      "cell_type": "markdown",
      "metadata": {
        "id": "RyuGD1k_Gx1Y"
      },
      "source": [
        "## Adding Our Stocks Data to a Pandas DataFrame\n",
        "\n",
        "The next thing we need to do is add our stock's price and market capitalization to a pandas DataFrame. Think of a DataFrame like the Python version of a spreadsheet. It stores tabular data."
      ]
    },
    {
      "cell_type": "code",
      "metadata": {
        "id": "h7Qmc3ZbGx1Y",
        "colab": {
          "base_uri": "https://localhost:8080/",
          "height": 49
        },
        "outputId": "3ae23558-b255-4d0d-d992-a3dc360f0afc"
      },
      "source": [
        "my_columns = ['Ticker', 'Stock Price', 'Market Cap', '# of Shares to Buy']\n",
        "final_dataframe = pd.DataFrame(columns = my_columns)\n",
        "final_dataframe"
      ],
      "execution_count": 21,
      "outputs": [
        {
          "output_type": "execute_result",
          "data": {
            "text/html": [
              "<div>\n",
              "<style scoped>\n",
              "    .dataframe tbody tr th:only-of-type {\n",
              "        vertical-align: middle;\n",
              "    }\n",
              "\n",
              "    .dataframe tbody tr th {\n",
              "        vertical-align: top;\n",
              "    }\n",
              "\n",
              "    .dataframe thead th {\n",
              "        text-align: right;\n",
              "    }\n",
              "</style>\n",
              "<table border=\"1\" class=\"dataframe\">\n",
              "  <thead>\n",
              "    <tr style=\"text-align: right;\">\n",
              "      <th></th>\n",
              "      <th>Ticker</th>\n",
              "      <th>Stock Price</th>\n",
              "      <th>Market Cap</th>\n",
              "      <th># of Shares to Buy</th>\n",
              "    </tr>\n",
              "  </thead>\n",
              "  <tbody>\n",
              "  </tbody>\n",
              "</table>\n",
              "</div>"
            ],
            "text/plain": [
              "Empty DataFrame\n",
              "Columns: [Ticker, Stock Price, Market Cap, # of Shares to Buy]\n",
              "Index: []"
            ]
          },
          "metadata": {
            "tags": []
          },
          "execution_count": 21
        }
      ]
    },
    {
      "cell_type": "code",
      "metadata": {
        "id": "vNPcWDC1Gx1Y",
        "colab": {
          "base_uri": "https://localhost:8080/",
          "height": 80
        },
        "outputId": "29c4fd95-5470-42aa-f6b2-2d428780cef6"
      },
      "source": [
        "final_dataframe.append(\n",
        "  pd.Series(\n",
        "      [\n",
        "        symbol,\n",
        "        price,\n",
        "        market_cap,\n",
        "        'N/A'\n",
        "      ], index=my_columns\n",
        "  ), ignore_index = True\n",
        ")"
      ],
      "execution_count": 26,
      "outputs": [
        {
          "output_type": "execute_result",
          "data": {
            "text/html": [
              "<div>\n",
              "<style scoped>\n",
              "    .dataframe tbody tr th:only-of-type {\n",
              "        vertical-align: middle;\n",
              "    }\n",
              "\n",
              "    .dataframe tbody tr th {\n",
              "        vertical-align: top;\n",
              "    }\n",
              "\n",
              "    .dataframe thead th {\n",
              "        text-align: right;\n",
              "    }\n",
              "</style>\n",
              "<table border=\"1\" class=\"dataframe\">\n",
              "  <thead>\n",
              "    <tr style=\"text-align: right;\">\n",
              "      <th></th>\n",
              "      <th>Ticker</th>\n",
              "      <th>Stock Price</th>\n",
              "      <th>Market Cap</th>\n",
              "      <th># of Shares to Buy</th>\n",
              "    </tr>\n",
              "  </thead>\n",
              "  <tbody>\n",
              "    <tr>\n",
              "      <th>0</th>\n",
              "      <td>AAPL</td>\n",
              "      <td>125.16</td>\n",
              "      <td>2170032023292</td>\n",
              "      <td>N/A</td>\n",
              "    </tr>\n",
              "  </tbody>\n",
              "</table>\n",
              "</div>"
            ],
            "text/plain": [
              "  Ticker  Stock Price     Market Cap # of Shares to Buy\n",
              "0   AAPL       125.16  2170032023292                N/A"
            ]
          },
          "metadata": {
            "tags": []
          },
          "execution_count": 26
        }
      ]
    },
    {
      "cell_type": "markdown",
      "metadata": {
        "id": "n_cTKiC2Gx1Z"
      },
      "source": [
        "## Looping Through The Tickers in Our List of Stocks\n",
        "\n",
        "Using the same logic that we outlined above, we can pull data for all S&P 500 stocks and store their data in the DataFrame using a `for` loop."
      ]
    },
    {
      "cell_type": "code",
      "metadata": {
        "id": "O92mbTSwGx1Z"
      },
      "source": [
        "final_dataframe = pd.DataFrame(columns = my_columns)\n",
        "for stock in stocks['Ticker']:\n",
        "  api_url = f'https://sandbox.iexapis.com/stable/stock/{stock}/quote/?token={api}'\n",
        "  data = requests.get(api_url).json()\n",
        "  final_dataframe = final_dataframe.append(\n",
        "      pd.Series(\n",
        "          [\n",
        "           stock,\n",
        "           data['close'],\n",
        "           data['marketCap'],\n",
        "           'N/A'\n",
        "          ], index = my_columns\n",
        "      ), ignore_index = True\n",
        "  )"
      ],
      "execution_count": 36,
      "outputs": []
    },
    {
      "cell_type": "code",
      "metadata": {
        "id": "7wqpfghxGx1Z",
        "colab": {
          "base_uri": "https://localhost:8080/",
          "height": 419
        },
        "outputId": "4f78207f-9220-4b2c-f563-2c1531fc9dc5"
      },
      "source": [
        "final_dataframe"
      ],
      "execution_count": 37,
      "outputs": [
        {
          "output_type": "execute_result",
          "data": {
            "text/html": [
              "<div>\n",
              "<style scoped>\n",
              "    .dataframe tbody tr th:only-of-type {\n",
              "        vertical-align: middle;\n",
              "    }\n",
              "\n",
              "    .dataframe tbody tr th {\n",
              "        vertical-align: top;\n",
              "    }\n",
              "\n",
              "    .dataframe thead th {\n",
              "        text-align: right;\n",
              "    }\n",
              "</style>\n",
              "<table border=\"1\" class=\"dataframe\">\n",
              "  <thead>\n",
              "    <tr style=\"text-align: right;\">\n",
              "      <th></th>\n",
              "      <th>Ticker</th>\n",
              "      <th>Stock Price</th>\n",
              "      <th>Market Cap</th>\n",
              "      <th># of Shares to Buy</th>\n",
              "    </tr>\n",
              "  </thead>\n",
              "  <tbody>\n",
              "    <tr>\n",
              "      <th>0</th>\n",
              "      <td>A</td>\n",
              "      <td>140.71</td>\n",
              "      <td>42454614156</td>\n",
              "      <td>N/A</td>\n",
              "    </tr>\n",
              "    <tr>\n",
              "      <th>1</th>\n",
              "      <td>AAL</td>\n",
              "      <td>24.41</td>\n",
              "      <td>15795365512</td>\n",
              "      <td>N/A</td>\n",
              "    </tr>\n",
              "    <tr>\n",
              "      <th>2</th>\n",
              "      <td>AAP</td>\n",
              "      <td>198.25</td>\n",
              "      <td>12505616607</td>\n",
              "      <td>N/A</td>\n",
              "    </tr>\n",
              "    <tr>\n",
              "      <th>3</th>\n",
              "      <td>AAPL</td>\n",
              "      <td>125.86</td>\n",
              "      <td>2151755238677</td>\n",
              "      <td>N/A</td>\n",
              "    </tr>\n",
              "    <tr>\n",
              "      <th>4</th>\n",
              "      <td>ABBV</td>\n",
              "      <td>116.60</td>\n",
              "      <td>200449528297</td>\n",
              "      <td>N/A</td>\n",
              "    </tr>\n",
              "    <tr>\n",
              "      <th>...</th>\n",
              "      <td>...</td>\n",
              "      <td>...</td>\n",
              "      <td>...</td>\n",
              "      <td>...</td>\n",
              "    </tr>\n",
              "    <tr>\n",
              "      <th>500</th>\n",
              "      <td>YUM</td>\n",
              "      <td>123.67</td>\n",
              "      <td>36454773432</td>\n",
              "      <td>N/A</td>\n",
              "    </tr>\n",
              "    <tr>\n",
              "      <th>501</th>\n",
              "      <td>ZBH</td>\n",
              "      <td>174.41</td>\n",
              "      <td>36642752191</td>\n",
              "      <td>N/A</td>\n",
              "    </tr>\n",
              "    <tr>\n",
              "      <th>502</th>\n",
              "      <td>ZBRA</td>\n",
              "      <td>518.88</td>\n",
              "      <td>26914778831</td>\n",
              "      <td>N/A</td>\n",
              "    </tr>\n",
              "    <tr>\n",
              "      <th>503</th>\n",
              "      <td>ZION</td>\n",
              "      <td>60.00</td>\n",
              "      <td>9543187811</td>\n",
              "      <td>N/A</td>\n",
              "    </tr>\n",
              "    <tr>\n",
              "      <th>504</th>\n",
              "      <td>ZTS</td>\n",
              "      <td>185.38</td>\n",
              "      <td>84276490256</td>\n",
              "      <td>N/A</td>\n",
              "    </tr>\n",
              "  </tbody>\n",
              "</table>\n",
              "<p>505 rows × 4 columns</p>\n",
              "</div>"
            ],
            "text/plain": [
              "    Ticker  Stock Price     Market Cap # of Shares to Buy\n",
              "0        A       140.71    42454614156                N/A\n",
              "1      AAL        24.41    15795365512                N/A\n",
              "2      AAP       198.25    12505616607                N/A\n",
              "3     AAPL       125.86  2151755238677                N/A\n",
              "4     ABBV       116.60   200449528297                N/A\n",
              "..     ...          ...            ...                ...\n",
              "500    YUM       123.67    36454773432                N/A\n",
              "501    ZBH       174.41    36642752191                N/A\n",
              "502   ZBRA       518.88    26914778831                N/A\n",
              "503   ZION        60.00     9543187811                N/A\n",
              "504    ZTS       185.38    84276490256                N/A\n",
              "\n",
              "[505 rows x 4 columns]"
            ]
          },
          "metadata": {
            "tags": []
          },
          "execution_count": 37
        }
      ]
    },
    {
      "cell_type": "markdown",
      "metadata": {
        "id": "NBIyVVU1Gx1Z"
      },
      "source": [
        "## Using Batch API Calls to Improve Performance\n",
        "\n",
        "Batch API calls are one of the easiest ways to improve the performance of your code.\n",
        "\n",
        "This is because HTTP requests are typically one of the slowest components of a script.\n",
        "\n",
        "Also, API providers will often give you discounted rates for using batch API calls since they are easier for the API provider to respond to.\n",
        "\n",
        "IEX Cloud limits their batch API calls to 100 tickers per request. Still, this reduces the number of API calls we'll make in this section from 500 to 5 - huge improvement! In this section, we'll split our list of stocks into groups of 100 and then make a batch API call for each group."
      ]
    },
    {
      "cell_type": "code",
      "metadata": {
        "id": "hqwb2BV-Gx1a"
      },
      "source": [
        "def chunks(lst, n):\n",
        "  for i in range(0, len(lst), n):\n",
        "    yield lst[i: i + n]"
      ],
      "execution_count": 39,
      "outputs": []
    },
    {
      "cell_type": "code",
      "metadata": {
        "id": "ZtFoXAwlGx1a",
        "colab": {
          "base_uri": "https://localhost:8080/",
          "height": 419
        },
        "outputId": "f142efd7-543a-46da-dc46-b56385531e36"
      },
      "source": [
        "symbol_g = list(chunks(stocks['Ticker'], 100))\n",
        "symbol_str = []\n",
        "type(symbol_g)\n",
        "for i in range(0, len(symbol_g)):\n",
        "  symbol_str.append(','.join(symbol_g[i]))\n",
        "  # print(symbol_str[i])\n",
        "final_dataframe = pd.DataFrame(columns=my_columns)\n",
        "\n",
        "for symbols in symbol_str:\n",
        "  batch_api_call_url =f'https://sandbox.iexapis.com/stable/stock/market/batch?symbols={symbols}&types=quote&token={api}'\n",
        "  # print(batch_api_call_url)\n",
        "  data = requests.get(batch_api_call_url).json()\n",
        "\n",
        "  for symbol in symbols.split(','):\n",
        "    final_dataframe = final_dataframe.append(\n",
        "        pd.Series(\n",
        "            [\n",
        "              symbol,\n",
        "              data[symbol]['quote']['close'],\n",
        "              data[symbol]['quote']['marketCap'],\n",
        "              'N/A'\n",
        "            ], index = my_columns\n",
        "        ), ignore_index=True\n",
        "    )\n",
        "final_dataframe"
      ],
      "execution_count": 57,
      "outputs": [
        {
          "output_type": "execute_result",
          "data": {
            "text/html": [
              "<div>\n",
              "<style scoped>\n",
              "    .dataframe tbody tr th:only-of-type {\n",
              "        vertical-align: middle;\n",
              "    }\n",
              "\n",
              "    .dataframe tbody tr th {\n",
              "        vertical-align: top;\n",
              "    }\n",
              "\n",
              "    .dataframe thead th {\n",
              "        text-align: right;\n",
              "    }\n",
              "</style>\n",
              "<table border=\"1\" class=\"dataframe\">\n",
              "  <thead>\n",
              "    <tr style=\"text-align: right;\">\n",
              "      <th></th>\n",
              "      <th>Ticker</th>\n",
              "      <th>Stock Price</th>\n",
              "      <th>Market Cap</th>\n",
              "      <th># of Shares to Buy</th>\n",
              "    </tr>\n",
              "  </thead>\n",
              "  <tbody>\n",
              "    <tr>\n",
              "      <th>0</th>\n",
              "      <td>A</td>\n",
              "      <td>141.69</td>\n",
              "      <td>43170005122</td>\n",
              "      <td>N/A</td>\n",
              "    </tr>\n",
              "    <tr>\n",
              "      <th>1</th>\n",
              "      <td>AAL</td>\n",
              "      <td>24.54</td>\n",
              "      <td>16122497801</td>\n",
              "      <td>N/A</td>\n",
              "    </tr>\n",
              "    <tr>\n",
              "      <th>2</th>\n",
              "      <td>AAP</td>\n",
              "      <td>195.79</td>\n",
              "      <td>12484724454</td>\n",
              "      <td>N/A</td>\n",
              "    </tr>\n",
              "    <tr>\n",
              "      <th>3</th>\n",
              "      <td>AAPL</td>\n",
              "      <td>130.56</td>\n",
              "      <td>2105133627583</td>\n",
              "      <td>N/A</td>\n",
              "    </tr>\n",
              "    <tr>\n",
              "      <th>4</th>\n",
              "      <td>ABBV</td>\n",
              "      <td>117.90</td>\n",
              "      <td>206132859528</td>\n",
              "      <td>N/A</td>\n",
              "    </tr>\n",
              "    <tr>\n",
              "      <th>...</th>\n",
              "      <td>...</td>\n",
              "      <td>...</td>\n",
              "      <td>...</td>\n",
              "      <td>...</td>\n",
              "    </tr>\n",
              "    <tr>\n",
              "      <th>500</th>\n",
              "      <td>YUM</td>\n",
              "      <td>121.05</td>\n",
              "      <td>36690124574</td>\n",
              "      <td>N/A</td>\n",
              "    </tr>\n",
              "    <tr>\n",
              "      <th>501</th>\n",
              "      <td>ZBH</td>\n",
              "      <td>173.89</td>\n",
              "      <td>35943837481</td>\n",
              "      <td>N/A</td>\n",
              "    </tr>\n",
              "    <tr>\n",
              "      <th>502</th>\n",
              "      <td>ZBRA</td>\n",
              "      <td>517.85</td>\n",
              "      <td>27767475548</td>\n",
              "      <td>N/A</td>\n",
              "    </tr>\n",
              "    <tr>\n",
              "      <th>503</th>\n",
              "      <td>ZION</td>\n",
              "      <td>58.88</td>\n",
              "      <td>9574555499</td>\n",
              "      <td>N/A</td>\n",
              "    </tr>\n",
              "    <tr>\n",
              "      <th>504</th>\n",
              "      <td>ZTS</td>\n",
              "      <td>185.36</td>\n",
              "      <td>85897691492</td>\n",
              "      <td>N/A</td>\n",
              "    </tr>\n",
              "  </tbody>\n",
              "</table>\n",
              "<p>505 rows × 4 columns</p>\n",
              "</div>"
            ],
            "text/plain": [
              "    Ticker  Stock Price     Market Cap # of Shares to Buy\n",
              "0        A       141.69    43170005122                N/A\n",
              "1      AAL        24.54    16122497801                N/A\n",
              "2      AAP       195.79    12484724454                N/A\n",
              "3     AAPL       130.56  2105133627583                N/A\n",
              "4     ABBV       117.90   206132859528                N/A\n",
              "..     ...          ...            ...                ...\n",
              "500    YUM       121.05    36690124574                N/A\n",
              "501    ZBH       173.89    35943837481                N/A\n",
              "502   ZBRA       517.85    27767475548                N/A\n",
              "503   ZION        58.88     9574555499                N/A\n",
              "504    ZTS       185.36    85897691492                N/A\n",
              "\n",
              "[505 rows x 4 columns]"
            ]
          },
          "metadata": {
            "tags": []
          },
          "execution_count": 57
        }
      ]
    },
    {
      "cell_type": "markdown",
      "metadata": {
        "id": "CSRboe-2Gx1a"
      },
      "source": [
        "## Calculating the Number of Shares to Buy\n",
        "\n",
        "As you can see in the DataFrame above, we stil haven't calculated the number of shares of each stock to buy.\n",
        "\n",
        "We'll do that next."
      ]
    },
    {
      "cell_type": "code",
      "metadata": {
        "id": "M7ys57U_Gx1a"
      },
      "source": [
        ""
      ],
      "execution_count": null,
      "outputs": []
    },
    {
      "cell_type": "code",
      "metadata": {
        "id": "UiOV9a2iGx1a"
      },
      "source": [
        ""
      ],
      "execution_count": null,
      "outputs": []
    },
    {
      "cell_type": "markdown",
      "metadata": {
        "id": "Qvel3ibFGx1b"
      },
      "source": [
        "## Formatting Our Excel Output\n",
        "\n",
        "We will be using the XlsxWriter library for Python to create nicely-formatted Excel files.\n",
        "\n",
        "XlsxWriter is an excellent package and offers tons of customization. However, the tradeoff for this is that the library can seem very complicated to new users. Accordingly, this section will be fairly long because I want to do a good job of explaining how XlsxWriter works.\n",
        "\n",
        "### Initializing our XlsxWriter Object"
      ]
    },
    {
      "cell_type": "code",
      "metadata": {
        "id": "JaEsN6StGx1b"
      },
      "source": [
        ""
      ],
      "execution_count": null,
      "outputs": []
    },
    {
      "cell_type": "markdown",
      "metadata": {
        "id": "nyAccE6pGx1b"
      },
      "source": [
        "### Creating the Formats We'll Need For Our `.xlsx` File\n",
        "\n",
        "Formats include colors, fonts, and also symbols like `%` and `$`. We'll need four main formats for our Excel document:\n",
        "* String format for tickers\n",
        "* \\\\$XX.XX format for stock prices\n",
        "* \\\\$XX,XXX format for market capitalization\n",
        "* Integer format for the number of shares to purchase"
      ]
    },
    {
      "cell_type": "code",
      "metadata": {
        "id": "3169xDFXGx1c"
      },
      "source": [
        ""
      ],
      "execution_count": null,
      "outputs": []
    },
    {
      "cell_type": "markdown",
      "metadata": {
        "id": "GHYcKPpmGx1c"
      },
      "source": [
        "### Applying the Formats to the Columns of Our `.xlsx` File\n",
        "\n",
        "We can use the `set_column` method applied to the `writer.sheets['Recommended Trades']` object to apply formats to specific columns of our spreadsheets.\n",
        "\n",
        "Here's an example:\n",
        "\n",
        "```python\n",
        "writer.sheets['Recommended Trades'].set_column('B:B', #This tells the method to apply the format to column B\n",
        "                     18, #This tells the method to apply a column width of 18 pixels\n",
        "                     string_template #This applies the format 'string_template' to the column\n",
        "                    )\n",
        "```"
      ]
    },
    {
      "cell_type": "code",
      "metadata": {
        "id": "eydwzjyiGx1c"
      },
      "source": [
        ""
      ],
      "execution_count": null,
      "outputs": []
    },
    {
      "cell_type": "markdown",
      "metadata": {
        "id": "tN091GipGx1d"
      },
      "source": [
        "This code works, but it violates the software principle of \"Don't Repeat Yourself\". \n",
        "\n",
        "Let's simplify this by putting it in 2 loops:"
      ]
    },
    {
      "cell_type": "code",
      "metadata": {
        "id": "2u7vRLlkGx1d"
      },
      "source": [
        ""
      ],
      "execution_count": null,
      "outputs": []
    },
    {
      "cell_type": "markdown",
      "metadata": {
        "id": "ACVH1MVHGx1d"
      },
      "source": [
        "## Saving Our Excel Output\n",
        "\n",
        "Saving our Excel file is very easy:"
      ]
    },
    {
      "cell_type": "code",
      "metadata": {
        "id": "HFTo1ZTCGx1g"
      },
      "source": [
        ""
      ],
      "execution_count": null,
      "outputs": []
    }
  ]
}