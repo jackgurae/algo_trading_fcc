{
  "nbformat": 4,
  "nbformat_minor": 0,
  "metadata": {
    "kernelspec": {
      "display_name": "Python 3",
      "language": "python",
      "name": "python3"
    },
    "language_info": {
      "codemirror_mode": {
        "name": "ipython",
        "version": 3
      },
      "file_extension": ".py",
      "mimetype": "text/x-python",
      "name": "python",
      "nbconvert_exporter": "python",
      "pygments_lexer": "ipython3",
      "version": "3.8.2"
    },
    "colab": {
      "name": "001_equal_weight_S&P_500.ipynb",
      "provenance": [],
      "toc_visible": true
    }
  },
  "cells": [
    {
      "cell_type": "markdown",
      "metadata": {
        "id": "-8_lKY8dGx1P"
      },
      "source": [
        "# Equal-Weight S&P 500 Index Fund\n",
        "\n",
        "## Introduction & Library Imports\n",
        "\n",
        "The S&P 500 is the world's most popular stock market index. The largest fund that is benchmarked to this index is the SPDR® S&P 500® ETF Trust. It has more than US$250 billion of assets under management.\n",
        "\n",
        "The goal of this section of the course is to create a Python script that will accept the value of your portfolio and tell you how many shares of each S&P 500 constituent you should purchase to get an equal-weight version of the index fund.\n",
        "\n",
        "## Library Imports\n",
        "\n",
        "The first thing we need to do is import the open-source software libraries that we'll be using in this tutorial."
      ]
    },
    {
      "cell_type": "code",
      "metadata": {
        "id": "Jhg4ZLjmGx1U"
      },
      "source": [
        "import numpy as np\n",
        "import pandas as pd\n",
        "import requests  #http request, execute API\n",
        "# import xlsxwriter\n",
        "from google.colab import drive\n",
        "import math"
      ],
      "execution_count": 2,
      "outputs": []
    },
    {
      "cell_type": "markdown",
      "metadata": {
        "id": "MjAmHi8oGx1U"
      },
      "source": [
        "## Importing Our List of Stocks\n",
        "\n",
        "The next thing we need to do is import the constituents of the S&P 500.\n",
        "\n",
        "These constituents change over time, so in an ideal world you would connect directly to the index provider (Standard & Poor's) and pull their real-time constituents on a regular basis.\n",
        "\n",
        "Paying for access to the index provider's API is outside of the scope of this course. \n",
        "\n",
        "There's a static version of the S&P 500 constituents available here. [Click this link to download them now](https://drive.google.com/file/d/1ZJSpbY69DVckVZlO9cC6KkgfSufybcHN/view?usp=sharing). Move this file into the `starter-files` folder so it can be accessed by other files in that directory.\n",
        "\n",
        "Now it's time to import these stocks to our Jupyter Notebook file."
      ]
    },
    {
      "cell_type": "code",
      "metadata": {
        "id": "Bl_PF7_7PTBS",
        "colab": {
          "base_uri": "https://localhost:8080/"
        },
        "outputId": "946feef1-9200-4ce3-9a6c-c070a951312c"
      },
      "source": [
        "from google.colab import drive\n",
        "drive.mount('/content/drive')"
      ],
      "execution_count": 4,
      "outputs": [
        {
          "output_type": "stream",
          "text": [
            "Mounted at /content/drive\n"
          ],
          "name": "stdout"
        }
      ]
    },
    {
      "cell_type": "code",
      "metadata": {
        "id": "35J8X0ODGx1W",
        "colab": {
          "base_uri": "https://localhost:8080/",
          "height": 419
        },
        "outputId": "227b86d9-f949-4036-f235-52f4101211ae"
      },
      "source": [
        "url ='https://github.com/jackgurae/algo_trading_fcc/blob/515b8bd68bbd4ecef55fa1984954c013af68be15/sp_500_stocks.csv'\n",
        "url = '/content/drive/MyDrive/Cloud/algo_trading/sp_500_stocks.csv'\n",
        "pd.read_csv(url, sep=',', delimiter=None)"
      ],
      "execution_count": 5,
      "outputs": [
        {
          "output_type": "execute_result",
          "data": {
            "text/html": [
              "<div>\n",
              "<style scoped>\n",
              "    .dataframe tbody tr th:only-of-type {\n",
              "        vertical-align: middle;\n",
              "    }\n",
              "\n",
              "    .dataframe tbody tr th {\n",
              "        vertical-align: top;\n",
              "    }\n",
              "\n",
              "    .dataframe thead th {\n",
              "        text-align: right;\n",
              "    }\n",
              "</style>\n",
              "<table border=\"1\" class=\"dataframe\">\n",
              "  <thead>\n",
              "    <tr style=\"text-align: right;\">\n",
              "      <th></th>\n",
              "      <th>Ticker</th>\n",
              "    </tr>\n",
              "  </thead>\n",
              "  <tbody>\n",
              "    <tr>\n",
              "      <th>0</th>\n",
              "      <td>A</td>\n",
              "    </tr>\n",
              "    <tr>\n",
              "      <th>1</th>\n",
              "      <td>AAL</td>\n",
              "    </tr>\n",
              "    <tr>\n",
              "      <th>2</th>\n",
              "      <td>AAP</td>\n",
              "    </tr>\n",
              "    <tr>\n",
              "      <th>3</th>\n",
              "      <td>AAPL</td>\n",
              "    </tr>\n",
              "    <tr>\n",
              "      <th>4</th>\n",
              "      <td>ABBV</td>\n",
              "    </tr>\n",
              "    <tr>\n",
              "      <th>...</th>\n",
              "      <td>...</td>\n",
              "    </tr>\n",
              "    <tr>\n",
              "      <th>500</th>\n",
              "      <td>YUM</td>\n",
              "    </tr>\n",
              "    <tr>\n",
              "      <th>501</th>\n",
              "      <td>ZBH</td>\n",
              "    </tr>\n",
              "    <tr>\n",
              "      <th>502</th>\n",
              "      <td>ZBRA</td>\n",
              "    </tr>\n",
              "    <tr>\n",
              "      <th>503</th>\n",
              "      <td>ZION</td>\n",
              "    </tr>\n",
              "    <tr>\n",
              "      <th>504</th>\n",
              "      <td>ZTS</td>\n",
              "    </tr>\n",
              "  </tbody>\n",
              "</table>\n",
              "<p>505 rows × 1 columns</p>\n",
              "</div>"
            ],
            "text/plain": [
              "    Ticker\n",
              "0        A\n",
              "1      AAL\n",
              "2      AAP\n",
              "3     AAPL\n",
              "4     ABBV\n",
              "..     ...\n",
              "500    YUM\n",
              "501    ZBH\n",
              "502   ZBRA\n",
              "503   ZION\n",
              "504    ZTS\n",
              "\n",
              "[505 rows x 1 columns]"
            ]
          },
          "metadata": {
            "tags": []
          },
          "execution_count": 5
        }
      ]
    },
    {
      "cell_type": "markdown",
      "metadata": {
        "id": "YOl8m1xnGx1W"
      },
      "source": [
        "## Acquiring an API Token\n",
        "\n",
        "Now it's time to import our IEX Cloud API token. This is the data provider that we will be using throughout this course.\n",
        "\n",
        "API tokens (and other sensitive information) should be stored in a `secrets.py` file that doesn't get pushed to your local Git repository. We'll be using a sandbox API token in this course, which means that the data we'll use is randomly-generated and (more importantly) has no cost associated with it.\n",
        "\n",
        "[Click here](http://nickmccullum.com/algorithmic-trading-python/secrets.py) to download your `secrets.py` file. Move the file into the same directory as this Jupyter Notebook before proceeding."
      ]
    },
    {
      "cell_type": "code",
      "metadata": {
        "id": "PTL_RTF3Gx1W"
      },
      "source": [
        "# from secrets import IEX_CLOUD_API_TOKEN"
      ],
      "execution_count": 7,
      "outputs": []
    },
    {
      "cell_type": "markdown",
      "metadata": {
        "id": "a3P7WpN0Gx1X"
      },
      "source": [
        "## Making Our First API Call\n",
        "\n",
        "Now it's time to structure our API calls to IEX cloud. \n",
        "\n",
        "We need the following information from the API:\n",
        "\n",
        "* Market capitalization for each stock\n",
        "* Price of each stock\n",
        "\n"
      ]
    },
    {
      "cell_type": "code",
      "metadata": {
        "id": "VF2-Dbg6Gx1X",
        "colab": {
          "base_uri": "https://localhost:8080/"
        },
        "outputId": "ffbd1755-17b4-4a33-eaa4-1bf4127c43da"
      },
      "source": [
        "api = 'Tpk_059b97af715d417d9f49f50b51b1c448'\n",
        "symbol = 'AAPL'\n",
        "api_url = f'https://sandbox.iexapis.com/stable/stock/{symbol}/quote/?token={api}'\n",
        "data = requests.get(api_url)\n",
        "# print(data.status_code)"
      ],
      "execution_count": 14,
      "outputs": [
        {
          "output_type": "stream",
          "text": [
            "200\n"
          ],
          "name": "stdout"
        }
      ]
    },
    {
      "cell_type": "markdown",
      "metadata": {
        "id": "qglJsYieGx1X"
      },
      "source": [
        "## Parsing Our API Call\n",
        "\n",
        "The API call that we executed in the last code block contains all of the information required to build our equal-weight S&P 500 strategy. \n",
        "\n",
        "With that said, the data isn't in a proper format yet. We need to parse it first."
      ]
    },
    {
      "cell_type": "code",
      "metadata": {
        "id": "bs5YdA8oGx1Y"
      },
      "source": [
        ""
      ],
      "execution_count": null,
      "outputs": []
    },
    {
      "cell_type": "markdown",
      "metadata": {
        "id": "RyuGD1k_Gx1Y"
      },
      "source": [
        "## Adding Our Stocks Data to a Pandas DataFrame\n",
        "\n",
        "The next thing we need to do is add our stock's price and market capitalization to a pandas DataFrame. Think of a DataFrame like the Python version of a spreadsheet. It stores tabular data."
      ]
    },
    {
      "cell_type": "code",
      "metadata": {
        "id": "h7Qmc3ZbGx1Y"
      },
      "source": [
        ""
      ],
      "execution_count": null,
      "outputs": []
    },
    {
      "cell_type": "code",
      "metadata": {
        "id": "vNPcWDC1Gx1Y"
      },
      "source": [
        ""
      ],
      "execution_count": null,
      "outputs": []
    },
    {
      "cell_type": "markdown",
      "metadata": {
        "id": "n_cTKiC2Gx1Z"
      },
      "source": [
        "## Looping Through The Tickers in Our List of Stocks\n",
        "\n",
        "Using the same logic that we outlined above, we can pull data for all S&P 500 stocks and store their data in the DataFrame using a `for` loop."
      ]
    },
    {
      "cell_type": "code",
      "metadata": {
        "id": "O92mbTSwGx1Z"
      },
      "source": [
        ""
      ],
      "execution_count": null,
      "outputs": []
    },
    {
      "cell_type": "code",
      "metadata": {
        "id": "7wqpfghxGx1Z"
      },
      "source": [
        ""
      ],
      "execution_count": null,
      "outputs": []
    },
    {
      "cell_type": "markdown",
      "metadata": {
        "id": "NBIyVVU1Gx1Z"
      },
      "source": [
        "## Using Batch API Calls to Improve Performance\n",
        "\n",
        "Batch API calls are one of the easiest ways to improve the performance of your code.\n",
        "\n",
        "This is because HTTP requests are typically one of the slowest components of a script.\n",
        "\n",
        "Also, API providers will often give you discounted rates for using batch API calls since they are easier for the API provider to respond to.\n",
        "\n",
        "IEX Cloud limits their batch API calls to 100 tickers per request. Still, this reduces the number of API calls we'll make in this section from 500 to 5 - huge improvement! In this section, we'll split our list of stocks into groups of 100 and then make a batch API call for each group."
      ]
    },
    {
      "cell_type": "code",
      "metadata": {
        "id": "hqwb2BV-Gx1a"
      },
      "source": [
        ""
      ],
      "execution_count": null,
      "outputs": []
    },
    {
      "cell_type": "code",
      "metadata": {
        "id": "ZtFoXAwlGx1a"
      },
      "source": [
        ""
      ],
      "execution_count": null,
      "outputs": []
    },
    {
      "cell_type": "markdown",
      "metadata": {
        "id": "CSRboe-2Gx1a"
      },
      "source": [
        "## Calculating the Number of Shares to Buy\n",
        "\n",
        "As you can see in the DataFrame above, we stil haven't calculated the number of shares of each stock to buy.\n",
        "\n",
        "We'll do that next."
      ]
    },
    {
      "cell_type": "code",
      "metadata": {
        "id": "M7ys57U_Gx1a"
      },
      "source": [
        ""
      ],
      "execution_count": null,
      "outputs": []
    },
    {
      "cell_type": "code",
      "metadata": {
        "id": "UiOV9a2iGx1a"
      },
      "source": [
        ""
      ],
      "execution_count": null,
      "outputs": []
    },
    {
      "cell_type": "markdown",
      "metadata": {
        "id": "Qvel3ibFGx1b"
      },
      "source": [
        "## Formatting Our Excel Output\n",
        "\n",
        "We will be using the XlsxWriter library for Python to create nicely-formatted Excel files.\n",
        "\n",
        "XlsxWriter is an excellent package and offers tons of customization. However, the tradeoff for this is that the library can seem very complicated to new users. Accordingly, this section will be fairly long because I want to do a good job of explaining how XlsxWriter works.\n",
        "\n",
        "### Initializing our XlsxWriter Object"
      ]
    },
    {
      "cell_type": "code",
      "metadata": {
        "id": "JaEsN6StGx1b"
      },
      "source": [
        ""
      ],
      "execution_count": null,
      "outputs": []
    },
    {
      "cell_type": "markdown",
      "metadata": {
        "id": "nyAccE6pGx1b"
      },
      "source": [
        "### Creating the Formats We'll Need For Our `.xlsx` File\n",
        "\n",
        "Formats include colors, fonts, and also symbols like `%` and `$`. We'll need four main formats for our Excel document:\n",
        "* String format for tickers\n",
        "* \\\\$XX.XX format for stock prices\n",
        "* \\\\$XX,XXX format for market capitalization\n",
        "* Integer format for the number of shares to purchase"
      ]
    },
    {
      "cell_type": "code",
      "metadata": {
        "id": "3169xDFXGx1c"
      },
      "source": [
        ""
      ],
      "execution_count": null,
      "outputs": []
    },
    {
      "cell_type": "markdown",
      "metadata": {
        "id": "GHYcKPpmGx1c"
      },
      "source": [
        "### Applying the Formats to the Columns of Our `.xlsx` File\n",
        "\n",
        "We can use the `set_column` method applied to the `writer.sheets['Recommended Trades']` object to apply formats to specific columns of our spreadsheets.\n",
        "\n",
        "Here's an example:\n",
        "\n",
        "```python\n",
        "writer.sheets['Recommended Trades'].set_column('B:B', #This tells the method to apply the format to column B\n",
        "                     18, #This tells the method to apply a column width of 18 pixels\n",
        "                     string_template #This applies the format 'string_template' to the column\n",
        "                    )\n",
        "```"
      ]
    },
    {
      "cell_type": "code",
      "metadata": {
        "id": "eydwzjyiGx1c"
      },
      "source": [
        ""
      ],
      "execution_count": null,
      "outputs": []
    },
    {
      "cell_type": "markdown",
      "metadata": {
        "id": "tN091GipGx1d"
      },
      "source": [
        "This code works, but it violates the software principle of \"Don't Repeat Yourself\". \n",
        "\n",
        "Let's simplify this by putting it in 2 loops:"
      ]
    },
    {
      "cell_type": "code",
      "metadata": {
        "id": "2u7vRLlkGx1d"
      },
      "source": [
        ""
      ],
      "execution_count": null,
      "outputs": []
    },
    {
      "cell_type": "markdown",
      "metadata": {
        "id": "ACVH1MVHGx1d"
      },
      "source": [
        "## Saving Our Excel Output\n",
        "\n",
        "Saving our Excel file is very easy:"
      ]
    },
    {
      "cell_type": "code",
      "metadata": {
        "id": "HFTo1ZTCGx1g"
      },
      "source": [
        ""
      ],
      "execution_count": null,
      "outputs": []
    }
  ]
}